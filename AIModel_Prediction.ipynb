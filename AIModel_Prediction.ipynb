{
  "nbformat": 4,
  "nbformat_minor": 0,
  "metadata": {
    "colab": {
      "provenance": [],
      "authorship_tag": "ABX9TyOcXz+kj70a4LtXe5suN4oc",
      "include_colab_link": true
    },
    "kernelspec": {
      "name": "python3",
      "display_name": "Python 3"
    },
    "language_info": {
      "name": "python"
    }
  },
  "cells": [
    {
      "cell_type": "markdown",
      "metadata": {
        "id": "view-in-github",
        "colab_type": "text"
      },
      "source": [
        "<a href=\"https://colab.research.google.com/github/ahmetemincopur/ImageProcessing_UniversityFinalProject/blob/main/AIModel_Prediction.ipynb\" target=\"_parent\"><img src=\"https://colab.research.google.com/assets/colab-badge.svg\" alt=\"Open In Colab\"/></a>"
      ]
    },
    {
      "cell_type": "code",
      "execution_count": null,
      "metadata": {
        "id": "gECkwzJmxbG2"
      },
      "outputs": [],
      "source": [
        "from google.colab import drive\n",
        "drive.mount('/content/gdrive')\n",
        "\n",
        "%cd gdrive/My Drive/Colab Notebooks/4.2.Dönem-Bitirme Projesi\n",
        "%ls"
      ]
    },
    {
      "cell_type": "code",
      "source": [
        "import pandas as pd\n",
        "import numpy as np\n",
        "import tensorflow as tf\n",
        "from tensorflow.keras.models import load_model\n",
        "\n",
        "# Test verilerini yükle\n",
        "#test_data = pd.read_csv('test.csv', delimiter='|')\n",
        "#test_dataset = test_data.iloc[:, 1:12].values\n",
        "\n",
        "#test_datalar = test_dataset[:, 0:10]\n",
        "#test_etiketler = test_dataset[:, 10]\n",
        "\n",
        "# Test verilerini yükle\n",
        "test_data = pd.read_csv('test2.csv', delimiter=',')\n",
        "dataset = test_data.iloc[:, 0:12].values\n",
        "\n",
        "# İlgili öznitelikleri al ve test_datalar ve test_etiketler'e NumPy dizisi olarak atayın\n",
        "test_datalar=dataset[:,1:11]\n",
        "test_etiketler=dataset[:,11]\n",
        "print(test_datalar[1])\n",
        "print(test_etiketler[0])\n",
        "# Modeli yükle\n",
        "model = load_model('modeller/en-uygun-model1.h5')\n",
        "\n",
        "# Tahminleri yap\n",
        "\n",
        "test_datalar = tf.convert_to_tensor(test_datalar, dtype=tf.float32)\n",
        "\n",
        "y_pred = model.predict(test_datalar)\n",
        "\n",
        "# Tahminleri sınıflara dönüştür\n",
        "y_pred_classes = np.argmax(y_pred, axis=1)\n",
        "\n",
        "# Gerçek etiketleri sınıflara dönüştür\n",
        "test_etiketler_classes = np.array(test_etiketler, dtype=int)\n",
        "\n",
        "# Tahminleri ve gerçek etiketleri karşılaştır ve doğruluğu hesapla\n",
        "dogruluk = np.mean(y_pred_classes == test_etiketler_classes)\n",
        "\n",
        "# Tahminlerle birlikte resim adlarını yazdır\n",
        "for i in range(len(test_etiketler)):\n",
        "    resim_adı = test_data.iloc[i, 0]\n",
        "    tahmin = y_pred_classes[i]\n",
        "    print(\"Resim Adı: %s, Tahmin: %d\" % (resim_adı, tahmin))\n",
        "\n",
        "# Sonucu yazdır\n",
        "print(\"Test Doğruluğu: %.2f%%\" % (dogruluk * 100))"
      ],
      "metadata": {
        "id": "6e7NYL4-xidp"
      },
      "execution_count": null,
      "outputs": []
    }
  ]
}